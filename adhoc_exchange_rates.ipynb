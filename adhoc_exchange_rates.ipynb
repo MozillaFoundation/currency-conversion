{
 "cells": [
  {
   "cell_type": "code",
   "execution_count": null,
   "id": "b27d0f1b",
   "metadata": {},
   "outputs": [],
   "source": [
    "import json\n",
    "from ExchangeRateEvent import *\n",
    "from get_currencies import *\n",
    "from constants import API_URL, BASE_CURRENCY, LOCAL_CURRENCIES, SALESFORCE_INSTANCE_URL, SALESFORCE_API_USER, SALESFORCE_API_PASS, SALESFORCE_API_TOKEN, DB_URL\n",
    "import logging\n",
    "import os\n",
    "import sys\n",
    "from datetime import timedelta, date\n",
    "import datetime\n",
    "import pandas as pd\n",
    "from file_opener import *\n",
    "from simple_salesforce import Salesforce\n",
    "from dateutil.parser import parse"
   ]
  },
  {
   "cell_type": "code",
   "execution_count": null,
   "id": "d8d31b15-28da-4910-b2a1-f47a91423293",
   "metadata": {},
   "outputs": [],
   "source": [
    "#Navigate and import from the submodule\n",
    "sys.path.append('..\\..')\n",
    "from data_utils.sf_connect import sf_connect\n",
    "from data_utils.file_opener import file_opener"
   ]
  },
  {
   "cell_type": "code",
   "execution_count": null,
   "id": "907cdc26",
   "metadata": {},
   "outputs": [],
   "source": [
    "API_KEY = os.environ['API_KEY']"
   ]
  },
  {
   "cell_type": "code",
   "execution_count": null,
   "id": "5d719f8e",
   "metadata": {},
   "outputs": [],
   "source": [
    "file_date = datetime.datetime.now().strftime('%Y%m%d')"
   ]
  },
  {
   "cell_type": "code",
   "execution_count": null,
   "id": "fa50a12a",
   "metadata": {},
   "outputs": [],
   "source": [
    "donation_soql = file_opener('donations.soql')"
   ]
  },
  {
   "cell_type": "code",
   "execution_count": null,
   "id": "6af1b482",
   "metadata": {},
   "outputs": [],
   "source": [
    "sf = sf_connect()"
   ]
  },
  {
   "cell_type": "code",
   "execution_count": null,
   "id": "100366b0-c0ac-4457-a16b-df8e78c99aaa",
   "metadata": {},
   "outputs": [],
   "source": [
    "sf.sf_query_object(donation_soql)"
   ]
  },
  {
   "cell_type": "code",
   "execution_count": null,
   "id": "40a2f4fe",
   "metadata": {},
   "outputs": [],
   "source": [
    "renamer = {'Id': 'opportunity_id'\n",
    "           ,'Currency__c': 'local_currency'\n",
    "           ,'Local_Currency_Amount_Number_For_Nat__c': 'local_currency_amount'\n",
    "           ,'CloseDate': 'exchange_rate_date'}"
   ]
  },
  {
   "cell_type": "code",
   "execution_count": null,
   "id": "c52d3a0f-29dc-4c48-a43e-b3d122606a44",
   "metadata": {},
   "outputs": [],
   "source": [
    "sf_donations_df = sf.data"
   ]
  },
  {
   "cell_type": "code",
   "execution_count": null,
   "id": "e006a05b-0c67-488a-b9fa-322826dd0347",
   "metadata": {},
   "outputs": [],
   "source": [
    "if len(sf_donations_df) > 0:\n",
    "    sf_donations_df.rename(columns = renamer, inplace = True)\n",
    "    currencies_dates = sf_donations_df[['local_currency', 'exchange_rate_date']].copy().drop_duplicates()"
   ]
  },
  {
   "cell_type": "code",
   "execution_count": null,
   "id": "2f615145",
   "metadata": {},
   "outputs": [],
   "source": [
    "print('The Salesforce returned a dataframe with {} records.'.format(len(sf_donations_df)))"
   ]
  },
  {
   "cell_type": "code",
   "execution_count": null,
   "id": "ef9b2b49",
   "metadata": {},
   "outputs": [],
   "source": [
    "if len(currencies_dates) > 0:\n",
    "    records = []\n",
    "    for c in currencies_dates.iterrows():\n",
    "        data = c[1]\n",
    "        local_currency = data[0]\n",
    "        date = data[1].strftime('%Y%m%d')\n",
    "\n",
    "        exchange_rate = get_currencies(\n",
    "                                       BASE_CURRENCY\n",
    "                                       ,local_currency\n",
    "                                       ,date\n",
    "                                       ,API_KEY\n",
    "                                       ,API_URL\n",
    "                                       )\n",
    "        records.append(exchange_rate)"
   ]
  },
  {
   "cell_type": "code",
   "execution_count": null,
   "id": "4e46b164",
   "metadata": {},
   "outputs": [],
   "source": [
    "data = [rows.__dict__ for days in records for rows in days]"
   ]
  },
  {
   "cell_type": "code",
   "execution_count": null,
   "id": "b618e906",
   "metadata": {},
   "outputs": [],
   "source": [
    "if len(data) > 0:\n",
    "    all_exchange_rates = pd.DataFrame(data)\n",
    "    all_exchange_rates['exchange_rate_date'] = all_exchange_rates.apply(lambda x: parse(x['exchange_rate_date']).date(), axis = 1)"
   ]
  },
  {
   "cell_type": "code",
   "execution_count": null,
   "id": "b0e2876b",
   "metadata": {},
   "outputs": [],
   "source": [
    "if len(all_exchange_rates) > 0 and len(sf_donations_df) > 0:\n",
    "    conversion = sf_donations_df.merge(all_exchange_rates[['local_currency', 'exchange_rate_date', 'exchange_rate']]\n",
    "                                       ,how = 'left'\n",
    "                                       ,on = ['local_currency', 'exchange_rate_date']\n",
    "                                       ,indicator = True)\n",
    "    \n",
    "    conversion['base_currency_amount'] = conversion.apply(lambda x: round(x['local_currency_amount']/x['exchange_rate'], 2), axis = 1)\n",
    "    \n",
    "    print('{} records were successfuly converted.'.format(len(conversion[conversion['_merge'] == 'both'])))\n",
    "    \n",
    "    conversion[conversion['_merge'] == 'both'].to_csv('currency_conversion_{}.csv'.format(file_date))\n",
    "    \n",
    "    conversion[conversion['_merge'] != 'both'].to_csv('no_currency_conversion_{}.csv'.format(file_date))"
   ]
  }
 ],
 "metadata": {
  "kernelspec": {
   "display_name": "Python 3 (ipykernel)",
   "language": "python",
   "name": "python3"
  },
  "language_info": {
   "codemirror_mode": {
    "name": "ipython",
    "version": 3
   },
   "file_extension": ".py",
   "mimetype": "text/x-python",
   "name": "python",
   "nbconvert_exporter": "python",
   "pygments_lexer": "ipython3",
   "version": "3.8.19"
  }
 },
 "nbformat": 4,
 "nbformat_minor": 5
}
