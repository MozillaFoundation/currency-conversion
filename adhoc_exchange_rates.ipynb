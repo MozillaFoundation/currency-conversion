{
 "cells": [
  {
   "cell_type": "code",
   "execution_count": 35,
   "id": "b27d0f1b",
   "metadata": {},
   "outputs": [],
   "source": [
    "import json\n",
    "#import boto3\n",
    "from ExchangeRateEvent import *\n",
    "from get_currencies import *\n",
    "from app_database import *\n",
    "#from sqs import *\n",
    "from constants import API_URL, BASE_CURRENCY, LOCAL_CURRENCIES, SALESFORCE_INSTANCE_URL, SALESFORCE_API_USER, SALESFORCE_API_PASS, SALESFORCE_API_TOKEN, DB_URL\n",
    "import logging\n",
    "import os\n",
    "from datetime import timedelta, date\n",
    "import datetime\n",
    "import pandas as pd\n",
    "from file_opener import *\n",
    "from simple_salesforce import Salesforce\n",
    "from dateutil.parser import parse"
   ]
  },
  {
   "cell_type": "code",
   "execution_count": 36,
   "id": "f2d5955c",
   "metadata": {},
   "outputs": [],
   "source": [
    "API_KEY = os.environ['API_KEY']"
   ]
  },
  {
   "cell_type": "code",
   "execution_count": 62,
   "id": "e5b5a060",
   "metadata": {},
   "outputs": [],
   "source": [
    "file_date = datetime.datetime.now().strftime('%Y%m%d')"
   ]
  },
  {
   "cell_type": "code",
   "execution_count": 9,
   "id": "fa50a12a",
   "metadata": {},
   "outputs": [],
   "source": [
    "donation_soql = file_opener('donations.soql')"
   ]
  },
  {
   "cell_type": "code",
   "execution_count": 3,
   "id": "6af1b482",
   "metadata": {},
   "outputs": [],
   "source": [
    "sf = Salesforce(instance = SALESFORCE_INSTANCE_URL\n",
    "                ,username=SALESFORCE_API_USER\n",
    "                ,password=SALESFORCE_API_PASS\n",
    "                ,security_token = SALESFORCE_API_TOKEN\n",
    "                ,session_id = '')"
   ]
  },
  {
   "cell_type": "code",
   "execution_count": 10,
   "id": "97b9a876",
   "metadata": {},
   "outputs": [],
   "source": [
    "sf_donations = sf.query_all(donation_soql)"
   ]
  },
  {
   "cell_type": "code",
   "execution_count": 12,
   "id": "92b756e0",
   "metadata": {},
   "outputs": [],
   "source": [
    "renamer = {'Id': 'opportunity_id'\n",
    "           ,'Currency__c': 'local_currency'\n",
    "           ,'Local_Currency_Amount_Number_For_Nat__c': 'local_currency_amount'\n",
    "           ,'CloseDate': 'exchange_rate_date'}"
   ]
  },
  {
   "cell_type": "code",
   "execution_count": 13,
   "id": "d6b33a8f",
   "metadata": {},
   "outputs": [],
   "source": [
    "if len(sf_donations.get('records')) > 0:\n",
    "    #Create a dataframe from the Salesforce Response\n",
    "    sf_donations_df = pd.DataFrame([m for m in sf_donations.get('records')]).drop(columns = 'attributes')\n",
    "    #Rename the columns\n",
    "    sf_donations_df.rename(columns = renamer, inplace = True)\n",
    "    #Make the exchange_rate_date a date column\n",
    "    sf_donations_df['exchange_rate_date'] = sf_donations_df.apply(lambda x: datetime.datetime.strptime(x['exchange_rate_date'], '%Y-%m-%d').date(), axis = 1)\n",
    "    #Get all the combinations of dates and currencies\n",
    "    currencies_dates = sf_donations_df[['local_currency', 'exchange_rate_date']].copy().drop_duplicates()"
   ]
  },
  {
   "cell_type": "code",
   "execution_count": 2,
   "id": "397e640b",
   "metadata": {},
   "outputs": [],
   "source": [
    "#engine = connect_db_engine(DB_URL)"
   ]
  },
  {
   "cell_type": "code",
   "execution_count": 4,
   "id": "67ba7112",
   "metadata": {},
   "outputs": [],
   "source": [
    "#vw_latest_exchange_rate = latest_exchange_rate(engine, 'vw_latest_exchange_rate')"
   ]
  },
  {
   "cell_type": "code",
   "execution_count": 7,
   "id": "a79d6299",
   "metadata": {},
   "outputs": [],
   "source": [
    "#DB_START_DATE = vw_latest_exchange_rate[0][1]"
   ]
  },
  {
   "cell_type": "code",
   "execution_count": 8,
   "id": "cb08b8cf",
   "metadata": {},
   "outputs": [],
   "source": [
    "#DB_END_DATE = vw_latest_exchange_rate[0][0]"
   ]
  },
  {
   "cell_type": "code",
   "execution_count": null,
   "id": "f235d7cc",
   "metadata": {},
   "outputs": [],
   "source": [
    "#if START_DATE <= DB_END_DATE:\n",
    "#    START_API_DATE = DB_END_DATE + timedelta(days = 1).strftime('%Y%m%d')\n",
    "#else:\n",
    "##    START_API_DATE = START_DATE.strftime('%Y%m%d')"
   ]
  },
  {
   "cell_type": "code",
   "execution_count": null,
   "id": "22677314",
   "metadata": {},
   "outputs": [],
   "source": [
    "#if END_DATE <= DB_END_DATE:\n",
    "#    END_API_DATE = DB_END_DATE + timedelta(days = 1).strftime('%Y%m%d')\n",
    "#else:\n",
    "#    END_API_DATE = START_DATE.strftime('%Y%m%d')"
   ]
  },
  {
   "cell_type": "code",
   "execution_count": null,
   "id": "2f615145",
   "metadata": {},
   "outputs": [],
   "source": [
    "print('The Salesforce returned a dataframe with {} records.'.format(len(sf_donations_df)))"
   ]
  },
  {
   "cell_type": "code",
   "execution_count": 39,
   "id": "f96db382",
   "metadata": {},
   "outputs": [
    {
     "name": "stderr",
     "output_type": "stream",
     "text": [
      "INFO:root:Successful request to the exchange rate API endpoint.\n",
      "INFO:root:After this request, 14998 of 15000 requests have been made against our quota for a utilization percentage of 0.00013333333333331865\n"
     ]
    },
    {
     "name": "stdout",
     "output_type": "stream",
     "text": [
      "Successful request to the exchange rate API endpoint.\n"
     ]
    },
    {
     "name": "stderr",
     "output_type": "stream",
     "text": [
      "INFO:root:Successful request to the exchange rate API endpoint.\n",
      "INFO:root:After this request, 14997 of 15000 requests have been made against our quota for a utilization percentage of 0.00019999999999997797\n"
     ]
    },
    {
     "name": "stdout",
     "output_type": "stream",
     "text": [
      "Successful request to the exchange rate API endpoint.\n"
     ]
    },
    {
     "name": "stderr",
     "output_type": "stream",
     "text": [
      "INFO:root:Successful request to the exchange rate API endpoint.\n",
      "INFO:root:After this request, 14996 of 15000 requests have been made against our quota for a utilization percentage of 0.0002666666666666373\n"
     ]
    },
    {
     "name": "stdout",
     "output_type": "stream",
     "text": [
      "Successful request to the exchange rate API endpoint.\n"
     ]
    },
    {
     "name": "stderr",
     "output_type": "stream",
     "text": [
      "INFO:root:Successful request to the exchange rate API endpoint.\n",
      "INFO:root:After this request, 14995 of 15000 requests have been made against our quota for a utilization percentage of 0.0003333333333332966\n"
     ]
    },
    {
     "name": "stdout",
     "output_type": "stream",
     "text": [
      "Successful request to the exchange rate API endpoint.\n"
     ]
    },
    {
     "name": "stderr",
     "output_type": "stream",
     "text": [
      "INFO:root:Successful request to the exchange rate API endpoint.\n",
      "INFO:root:After this request, 14994 of 15000 requests have been made against our quota for a utilization percentage of 0.00039999999999995595\n"
     ]
    },
    {
     "name": "stdout",
     "output_type": "stream",
     "text": [
      "Successful request to the exchange rate API endpoint.\n"
     ]
    },
    {
     "name": "stderr",
     "output_type": "stream",
     "text": [
      "INFO:root:Successful request to the exchange rate API endpoint.\n",
      "INFO:root:After this request, 14993 of 15000 requests have been made against our quota for a utilization percentage of 0.00046666666666661527\n"
     ]
    },
    {
     "name": "stdout",
     "output_type": "stream",
     "text": [
      "Successful request to the exchange rate API endpoint.\n"
     ]
    },
    {
     "name": "stderr",
     "output_type": "stream",
     "text": [
      "INFO:root:Successful request to the exchange rate API endpoint.\n",
      "INFO:root:After this request, 14992 of 15000 requests have been made against our quota for a utilization percentage of 0.0005333333333333856\n"
     ]
    },
    {
     "name": "stdout",
     "output_type": "stream",
     "text": [
      "Successful request to the exchange rate API endpoint.\n"
     ]
    },
    {
     "name": "stderr",
     "output_type": "stream",
     "text": [
      "INFO:root:Successful request to the exchange rate API endpoint.\n",
      "INFO:root:After this request, 14991 of 15000 requests have been made against our quota for a utilization percentage of 0.0006000000000000449\n"
     ]
    },
    {
     "name": "stdout",
     "output_type": "stream",
     "text": [
      "Successful request to the exchange rate API endpoint.\n"
     ]
    },
    {
     "name": "stderr",
     "output_type": "stream",
     "text": [
      "INFO:root:Successful request to the exchange rate API endpoint.\n",
      "INFO:root:After this request, 14990 of 15000 requests have been made against our quota for a utilization percentage of 0.0006666666666667043\n"
     ]
    },
    {
     "name": "stdout",
     "output_type": "stream",
     "text": [
      "Successful request to the exchange rate API endpoint.\n"
     ]
    },
    {
     "name": "stderr",
     "output_type": "stream",
     "text": [
      "INFO:root:Successful request to the exchange rate API endpoint.\n",
      "INFO:root:After this request, 14989 of 15000 requests have been made against our quota for a utilization percentage of 0.0007333333333333636\n"
     ]
    },
    {
     "name": "stdout",
     "output_type": "stream",
     "text": [
      "Successful request to the exchange rate API endpoint.\n"
     ]
    },
    {
     "name": "stderr",
     "output_type": "stream",
     "text": [
      "INFO:root:Successful request to the exchange rate API endpoint.\n",
      "INFO:root:After this request, 14988 of 15000 requests have been made against our quota for a utilization percentage of 0.0008000000000000229\n"
     ]
    },
    {
     "name": "stdout",
     "output_type": "stream",
     "text": [
      "Successful request to the exchange rate API endpoint.\n"
     ]
    },
    {
     "name": "stderr",
     "output_type": "stream",
     "text": [
      "INFO:root:Successful request to the exchange rate API endpoint.\n",
      "INFO:root:After this request, 14987 of 15000 requests have been made against our quota for a utilization percentage of 0.0008666666666666822\n"
     ]
    },
    {
     "name": "stdout",
     "output_type": "stream",
     "text": [
      "Successful request to the exchange rate API endpoint.\n"
     ]
    },
    {
     "name": "stderr",
     "output_type": "stream",
     "text": [
      "INFO:root:Successful request to the exchange rate API endpoint.\n",
      "INFO:root:After this request, 14986 of 15000 requests have been made against our quota for a utilization percentage of 0.0009333333333333416\n"
     ]
    },
    {
     "name": "stdout",
     "output_type": "stream",
     "text": [
      "Successful request to the exchange rate API endpoint.\n"
     ]
    },
    {
     "name": "stderr",
     "output_type": "stream",
     "text": [
      "INFO:root:Successful request to the exchange rate API endpoint.\n",
      "INFO:root:After this request, 14985 of 15000 requests have been made against our quota for a utilization percentage of 0.0010000000000000009\n"
     ]
    },
    {
     "name": "stdout",
     "output_type": "stream",
     "text": [
      "Successful request to the exchange rate API endpoint.\n"
     ]
    },
    {
     "name": "stderr",
     "output_type": "stream",
     "text": [
      "INFO:root:Successful request to the exchange rate API endpoint.\n",
      "INFO:root:After this request, 14984 of 15000 requests have been made against our quota for a utilization percentage of 0.0010666666666666602\n"
     ]
    },
    {
     "name": "stdout",
     "output_type": "stream",
     "text": [
      "Successful request to the exchange rate API endpoint.\n"
     ]
    },
    {
     "name": "stderr",
     "output_type": "stream",
     "text": [
      "INFO:root:Successful request to the exchange rate API endpoint.\n",
      "INFO:root:After this request, 14983 of 15000 requests have been made against our quota for a utilization percentage of 0.0011333333333333195\n"
     ]
    },
    {
     "name": "stdout",
     "output_type": "stream",
     "text": [
      "Successful request to the exchange rate API endpoint.\n"
     ]
    },
    {
     "name": "stderr",
     "output_type": "stream",
     "text": [
      "INFO:root:Successful request to the exchange rate API endpoint.\n",
      "INFO:root:After this request, 14982 of 15000 requests have been made against our quota for a utilization percentage of 0.0011999999999999789\n"
     ]
    },
    {
     "name": "stdout",
     "output_type": "stream",
     "text": [
      "Successful request to the exchange rate API endpoint.\n"
     ]
    },
    {
     "name": "stderr",
     "output_type": "stream",
     "text": [
      "INFO:root:Successful request to the exchange rate API endpoint.\n",
      "INFO:root:After this request, 14981 of 15000 requests have been made against our quota for a utilization percentage of 0.0012666666666666382\n"
     ]
    },
    {
     "name": "stdout",
     "output_type": "stream",
     "text": [
      "Successful request to the exchange rate API endpoint.\n"
     ]
    },
    {
     "name": "stderr",
     "output_type": "stream",
     "text": [
      "INFO:root:Successful request to the exchange rate API endpoint.\n",
      "INFO:root:After this request, 14980 of 15000 requests have been made against our quota for a utilization percentage of 0.0013333333333332975\n"
     ]
    },
    {
     "name": "stdout",
     "output_type": "stream",
     "text": [
      "Successful request to the exchange rate API endpoint.\n"
     ]
    },
    {
     "name": "stderr",
     "output_type": "stream",
     "text": [
      "INFO:root:Successful request to the exchange rate API endpoint.\n",
      "INFO:root:After this request, 14979 of 15000 requests have been made against our quota for a utilization percentage of 0.0013999999999999568\n"
     ]
    },
    {
     "name": "stdout",
     "output_type": "stream",
     "text": [
      "Successful request to the exchange rate API endpoint.\n"
     ]
    }
   ],
   "source": [
    "if len(currencies_dates) > 0:\n",
    "    records = []\n",
    "    for c in currencies_dates.iterrows():\n",
    "        data = c[1]\n",
    "        local_currency = data[0]\n",
    "        date = data[1].strftime('%Y%m%d')\n",
    "\n",
    "        exchange_rate = get_currencies(\n",
    "                                       BASE_CURRENCY\n",
    "                                       ,local_currency\n",
    "                                       ,date\n",
    "                                       ,API_KEY\n",
    "                                       ,API_URL\n",
    "                                       )\n",
    "        records.append(exchange_rate)"
   ]
  },
  {
   "cell_type": "code",
   "execution_count": 43,
   "id": "4e46b164",
   "metadata": {},
   "outputs": [],
   "source": [
    "data = [rows.__dict__ for days in records for rows in days]"
   ]
  },
  {
   "cell_type": "code",
   "execution_count": 47,
   "id": "8d2a6210",
   "metadata": {},
   "outputs": [],
   "source": [
    "if len(data) > 0:\n",
    "    all_exchange_rates = pd.DataFrame(data)\n",
    "    all_exchange_rates['exchange_rate_date'] = all_exchange_rates.apply(lambda x: parse(x['exchange_rate_date']).date(), axis = 1)"
   ]
  },
  {
   "cell_type": "code",
   "execution_count": 63,
   "id": "2fa35cfc",
   "metadata": {},
   "outputs": [
    {
     "name": "stdout",
     "output_type": "stream",
     "text": [
      "20 records were successfuly converted.\n"
     ]
    }
   ],
   "source": [
    "if len(all_exchange_rates) > 0 and len(sf_donations_df) > 0:\n",
    "    conversion = sf_donations_df.merge(all_exchange_rates[['local_currency', 'exchange_rate_date', 'exchange_rate']]\n",
    "                                       ,how = 'left'\n",
    "                                       ,on = ['local_currency', 'exchange_rate_date']\n",
    "                                       ,indicator = True)\n",
    "    \n",
    "    conversion['base_currency_amount'] = conversion.apply(lambda x: round(x['local_currency_amount']/x['exchange_rate'], 2), axis = 1)\n",
    "    \n",
    "    print('{} records were successfuly converted.'.format(len(conversion[conversion['_merge'] == 'both'])))\n",
    "    \n",
    "    conversion[conversion['_merge'] == 'both'].to_csv('currency_conversion_{}.csv'.format(file_date))\n",
    "    \n",
    "    conversion[conversion['_merge'] != 'both'].to_csv('no_currency_conversion_{}.csv'.format(file_date))"
   ]
  }
 ],
 "metadata": {
  "kernelspec": {
   "display_name": "Python 3",
   "language": "python",
   "name": "python3"
  },
  "language_info": {
   "codemirror_mode": {
    "name": "ipython",
    "version": 3
   },
   "file_extension": ".py",
   "mimetype": "text/x-python",
   "name": "python",
   "nbconvert_exporter": "python",
   "pygments_lexer": "ipython3",
   "version": "3.8.8"
  }
 },
 "nbformat": 4,
 "nbformat_minor": 5
}
