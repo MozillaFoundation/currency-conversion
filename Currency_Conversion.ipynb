{
 "cells": [
  {
   "cell_type": "code",
   "execution_count": null,
   "id": "73e66e97",
   "metadata": {},
   "outputs": [],
   "source": [
    "import json\n",
    "import boto3\n",
    "from ExchangeRateEvent import *\n",
    "from get_currencies import *\n",
    "from app_database import *\n",
    "from sqs import *\n",
    "from constants import SECRET_NAME, AWS_REGION, API_URL, BASE_CURRENCY, LOCAL_CURRENCIES\n",
    "import logging\n",
    "import os"
   ]
  },
  {
   "cell_type": "code",
   "execution_count": null,
   "id": "bbbe8138",
   "metadata": {},
   "outputs": [],
   "source": [
    "import os"
   ]
  },
  {
   "cell_type": "code",
   "execution_count": null,
   "id": "1d6e93a6",
   "metadata": {},
   "outputs": [],
   "source": [
    "logger = logging.getLogger(__name__)"
   ]
  },
  {
   "cell_type": "code",
   "execution_count": null,
   "id": "62b9fdc6",
   "metadata": {},
   "outputs": [],
   "source": [
    "API_KEY = os.environ['API_KEY']\n",
    "DB_URL = os.environ['DB_URL']"
   ]
  },
  {
   "cell_type": "code",
   "execution_count": null,
   "id": "35dddb16",
   "metadata": {},
   "outputs": [],
   "source": [
    "test = get_currencies(\n",
    "                      BASE_CURRENCY\n",
    "                      ,LOCAL_CURRENCIES\n",
    "                      ,['2022-02-11']\n",
    "                      ,API_KEY\n",
    "                      ,API_URL\n",
    ")"
   ]
  },
  {
   "cell_type": "code",
   "execution_count": null,
   "id": "3951f774",
   "metadata": {},
   "outputs": [],
   "source": [
    "sql_values = [t.to_sql_values() for t in test]"
   ]
  },
  {
   "cell_type": "code",
   "execution_count": null,
   "id": "7bca5b0e",
   "metadata": {},
   "outputs": [],
   "source": [
    "sqs_messages = [t.to_sqs_message() for t in test]"
   ]
  },
  {
   "cell_type": "code",
   "execution_count": null,
   "id": "b16d465a",
   "metadata": {},
   "outputs": [],
   "source": [
    "insert_exchange_rate(DB_URL, 'exchange_rates', sql_values)"
   ]
  }
 ],
 "metadata": {
  "kernelspec": {
   "display_name": "Python 3",
   "language": "python",
   "name": "python3"
  },
  "language_info": {
   "codemirror_mode": {
    "name": "ipython",
    "version": 3
   },
   "file_extension": ".py",
   "mimetype": "text/x-python",
   "name": "python",
   "nbconvert_exporter": "python",
   "pygments_lexer": "ipython3",
   "version": "3.8.8"
  }
 },
 "nbformat": 4,
 "nbformat_minor": 5
}
