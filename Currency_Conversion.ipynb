{
 "cells": [
  {
   "cell_type": "code",
   "execution_count": 1,
   "id": "73e66e97",
   "metadata": {},
   "outputs": [],
   "source": [
    "import json\n",
    "import boto3\n",
    "from ExchangeRateEvent import *\n",
    "from get_currencies import *\n",
    "from app_database import *\n",
    "from sqs import *\n",
    "from constants import API_URL, BASE_CURRENCY, LOCAL_CURRENCIES\n",
    "import logging\n",
    "import os\n",
    "from datetime import timedelta"
   ]
  },
  {
   "cell_type": "code",
   "execution_count": 2,
   "id": "9afe1366",
   "metadata": {},
   "outputs": [],
   "source": [
    "logger.setLevel(logging.DEBUG)\n",
    "logger = logging.getLogger()\n",
    "log_handler = logging.FileHandler(filename='log.log', mode='a')\n",
    "formatter = logging.Formatter('%(asctime)s - %(name)s - %(levelname)s - %(message)s')\n",
    "log_handler.setFormatter(formatter)\n",
    "logger.addHandler(log_handler)"
   ]
  },
  {
   "cell_type": "code",
   "execution_count": 3,
   "id": "62b9fdc6",
   "metadata": {},
   "outputs": [],
   "source": [
    "DB_URL = os.environ['DB_URL']\n",
    "API_KEY = os.environ['API_KEY']"
   ]
  },
  {
   "cell_type": "code",
   "execution_count": 4,
   "id": "2e300622",
   "metadata": {},
   "outputs": [],
   "source": [
    "engine = connect_db_engine(DB_URL)"
   ]
  },
  {
   "cell_type": "code",
   "execution_count": 5,
   "id": "26f1bde3",
   "metadata": {},
   "outputs": [],
   "source": [
    "vw_latest_exchange_rate = latest_exchange_rate(engine, 'vw_latest_exchange_rate')"
   ]
  },
  {
   "cell_type": "code",
   "execution_count": 6,
   "id": "9e535f88",
   "metadata": {},
   "outputs": [],
   "source": [
    "next_date = (vw_latest_exchange_rate[0][0] + timedelta(days = 1)).strftime('%Y-%m-%d')"
   ]
  },
  {
   "cell_type": "code",
   "execution_count": 8,
   "id": "35dddb16",
   "metadata": {},
   "outputs": [],
   "source": [
    "test = get_currencies(\n",
    "                      BASE_CURRENCY\n",
    "                      ,LOCAL_CURRENCIES\n",
    "                      ,next_date\n",
    "                      ,API_KEY\n",
    "                      ,API_URL\n",
    ")"
   ]
  },
  {
   "cell_type": "code",
   "execution_count": 9,
   "id": "3951f774",
   "metadata": {},
   "outputs": [],
   "source": [
    "sql_values = [t.to_sql_values() for t in test]"
   ]
  },
  {
   "cell_type": "code",
   "execution_count": 10,
   "id": "7bca5b0e",
   "metadata": {},
   "outputs": [],
   "source": [
    "sqs_messages = [t.to_sqs_message() for t in test]"
   ]
  },
  {
   "cell_type": "code",
   "execution_count": 11,
   "id": "9a262b58",
   "metadata": {},
   "outputs": [],
   "source": [
    "insert_exchange_rate(engine, 'exchange_rates', sql_values)"
   ]
  }
 ],
 "metadata": {
  "kernelspec": {
   "display_name": "Python 3",
   "language": "python",
   "name": "python3"
  },
  "language_info": {
   "codemirror_mode": {
    "name": "ipython",
    "version": 3
   },
   "file_extension": ".py",
   "mimetype": "text/x-python",
   "name": "python",
   "nbconvert_exporter": "python",
   "pygments_lexer": "ipython3",
   "version": "3.8.8"
  }
 },
 "nbformat": 4,
 "nbformat_minor": 5
}
